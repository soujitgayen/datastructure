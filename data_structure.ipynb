{
  "nbformat": 4,
  "nbformat_minor": 0,
  "metadata": {
    "colab": {
      "provenance": []
    },
    "kernelspec": {
      "name": "python3",
      "display_name": "Python 3"
    },
    "language_info": {
      "name": "python"
    }
  },
  "cells": [
    {
      "cell_type": "markdown",
      "source": [
        "#1. What are data structures, and why are they important?\n",
        "  .In Python, data structures are ways to organize, store, and manage data efficiently so that operations like access, modification, and deletion can be performed in the most effective way possible.\n",
        "#2.Explain the difference between mutable and immutable data types with examples\n",
        "  .Mutable data type is the data type which data can be changed after creation\n",
        "  and immutable data types are those data type whose data can not be changed after its creation\n",
        "  example mutable=list ,immutable=tuples\n",
        "#3.What are the main differences between lists and tuples in Python?\n",
        "  .lists are mutable means kists contants can modify after creation\n",
        "  and tuples are immutable means whose contants are not changable after creation.\n",
        "#4.Describe how dictionaries store data?\n",
        "  .A Python dictionary stores data as key-value pairs. Each key is unique, and it maps to a corresponding value.\n",
        "#5. Why might you use a set instead of a list in Python?\n",
        "  . Uniqueness of Elements\n",
        "  Set: A set automatically removes duplicate elements. If you want to store a collection of items but only care about each item appearing once, a set is ideal.\n",
        "  List: A list allows duplicates, meaning the same item can appear multiple times in the collection.\n",
        "  Immutability of Set Elements\n",
        "  Set: The elements of a set must be hashable (e.g., immutable types like integers, strings, tuples). This constraint allows sets to be used as keys in dictionaries.\n",
        "  List: Lists can store mutable types (like other lists or dictionaries), and thus they cannot be used as dictionary keys.\n",
        "#6.What is a string in Python, and how is it different from a list\n",
        "  .In Python, a string is a sequence of characters, typically used to represent text. It is one of the built-in data types in Python, and strings are immutable (i.e., they cannot be modified after they are created). Strings in Python are enclosed in either single quotes (') or double quotes (\"), and can also span multiple lines using triple quotes (''' or \"\"\").\n",
        "  Key Differences:\n",
        "  Immutability: A string is immutable, meaning once it is created, you cannot change its contents. In contrast, a list is mutable, allowing you to modify, add, or remove elements after its creation.\n",
        "  Element Types: A string consists only of characters (text), whereas a list can hold elements of any data type (numbers, strings, other lists, etc.).\n",
        "  Operations: Strings are optimized for text processing, while lists are designed for more general-purpose collections.\n",
        "#7.How do tuples ensure data integrity in Python\n",
        "  .Tuples in Python ensure data integrity through their immutability. Once a tuple is created, its elements cannot be modified, added, or removed. This property prevents accidental or intentional changes to the data, maintaining the integrity of the tuple's content throughout the program.\n",
        "\n",
        "  Key Points:\n",
        "  Immutability: Tuples cannot be altered after they are created. This guarantees that the data they store remains constant.\n",
        "  Hashable: Since tuples are immutable, they are hashable and can be used as keys in dictionaries, further ensuring that their contents cannot be changed.\n",
        "#8.What is a hash table, and how does it relate to dictionaries in Python\n",
        "  .A hash table is a data structure that stores data in an associative array format, where each data element is stored based on a unique hash value. The hash value is computed from a key using a hash function, which determines the index or location in the table where the associated value is stored.\n",
        "\n",
        "Relation to Python Dictionaries:\n",
        "In Python, dictionaries are implemented using hash tables. When you insert a key-value pair, Python computes a hash value for the key and stores the value at the corresponding location in the table. This allows for efficient lookups, insertions, and deletions (typically O(1) time complexity). The keys in a dictionary are hashed to determine their storage location, ensuring fast access to values.\n",
        "#9.Can lists contain different data types in Python\n",
        "  .Yes, lists in Python can contain elements of different data types. A list is a versatile collection that can store a mix of integers, strings, floats, booleans, and even other lists or objects.\n",
        "#10. Explain why strings are immutable in Python\n",
        "  .Strings are immutable in Python because once a string is created, its contents cannot be changed. This design decision improves performance by allowing strings to be safely shared across different parts of a program without the risk of accidental modifications. Additionally, immutability allows Python to optimize memory usage and enables strings to be used as keys in dictionaries, since their hash values remain constant.\n",
        "#11. What advantages do dictionaries offer over lists for certain tasks\n",
        "  .Faster Lookups: Dictionaries use hashing, which allows for constant-time (O(1)) access to values based on keys, making lookups much faster than lists. In contrast, lists require linear time (O(n)) to find an item when searching by value.\n",
        "  Key-Value Pair Mapping: Dictionaries store data as key-value pairs, making them ideal for tasks where you need to map or associate one piece of data with another (e.g., mapping a name to a phone number). Lists only store values, requiring more complex structures or methods to achieve similar functionality.\n",
        "#12.Describe a scenario where using a tuple would be preferable over a list\n",
        "  A scenario where using a tuple would be preferable over a list is when we need to store a collection of immutable data that should not be modified after creation. For example, if we are storing the coordinates of a location, such as (latitude, longitude), a tuple would be ideal because the values should remain constant and not change throughout the program.\n",
        "#13. How do sets handle duplicate values in Python\n",
        "  .In Python, sets automatically eliminate duplicate values. When we try to add a duplicate element to a set, it simply ignores the duplicate and keeps only one instance of that value.\n",
        "#14. How does the “in” keyword work differently for lists and dictionaries\n",
        "  .The in keyword works differently for lists and dictionaries in Python because it checks for different types of data:\n",
        "\n",
        "For Lists:\n",
        "\n",
        "The in keyword checks if a specific value exists in the list.\n",
        "It performs a linear search through all the elements of the list\n",
        "For Dictionaries:\n",
        "\n",
        "The in keyword checks if a key exists in the dictionary.\n",
        "It checks for the presence of the key using hashing, making it more efficient than searching through a list.\n",
        "#15. Can you modify the elements of a tuple? Explain why or why not\n",
        "  .No, we cannot modify the elements of a tuple in Python because tuples are immutable.\n",
        "\n",
        "Explanation:\n",
        "Immutability: Once a tuple is created, its elements cannot be changed, added, or removed. This design ensures that the data stored in a tuple remains constant throughout the program.\n",
        "This immutability provides benefits like data integrity, hashability (so tuples can be used as keys in dictionaries), and performance optimization.\n",
        "#16. What is a nested dictionary, and give an example of its use case\n",
        "  .A nested dictionary in Python is a dictionary where one or more of its values is another dictionary. This allows us to represent complex data structures, such as hierarchies or relationships between different sets of data.\n",
        "\n",
        "Example of Nested Dictionary:\n",
        "A nested dictionary can be used to represent, for example, a student database, where each student has multiple attributes like name, age, and courses, and each course can have its own details (like course name and grades).\n",
        "#17. Describe the time complexity of accessing elements in a dictionary\n",
        "  .The time complexity of accessing elements in a dictionary in Python is O(1), on average. This is due to the underlying hash table implementation that allows for constant-time lookups.\n",
        "\n",
        "Explanation:\n",
        "Hashing: When we access an element in a dictionary by its key, Python computes the hash of the key, which determines the position in the hash table where the value is stored. This allows Python to quickly retrieve the value without having to search through the entire dictionary.\n",
        "Average Case: In most cases, dictionary access is O(1) because the hash function evenly distributes the keys across the hash table, and Python can directly locate the corresponding value.\n",
        "Worst Case: In rare cases, such as when many keys hash to the same value (collisions), the time complexity could degrade to O(n). However, Python's hash table implementation uses techniques like open addressing and dynamic resizing to minimize collisions and maintain O(1) access time in most cases.\n",
        "#18. In what situations are lists preferred over dictionaries\n",
        "  .Lists are preferred over dictionaries in situations where:\n",
        "\n",
        "Order matters: Lists maintain the order of elements, while dictionaries do not guarantee order (although they do in Python 3.7+ for insertion).\n",
        "Indexed access by position: When you need to access elements using an index or perform operations like slicing, lists are more suitable.\n",
        "Storing ordered collections of similar items: If you're dealing with a collection of values where each element doesn't need to be associated with a unique key, lists are a better choice.\n",
        "#19.Why are dictionaries considered unordered, and how does that affect data retrieval\n",
        "  .Dictionaries in Python are considered unordered because the elements (key-value pairs) are stored based on the hash values of the keys, rather than in a specific sequence. In Python versions prior to 3.7, the insertion order of key-value pairs was not guaranteed. However, starting from Python 3.7, dictionaries do maintain insertion order (i.e., the order in which the items were added is preserved), but they are still conceptually unordered because the internal data structure is based on a hash tab.\n",
        "#20.Explain the difference between a list and a dictionary in terms of data retrieval\n",
        "  .The key difference between a list and a dictionary in terms of data retrieval is:\n",
        "\n",
        "List: Data is retrieved by index (position), meaning you access elements using their numerical position in the list (e.g., my_list[0]).\n",
        "Dictionary: Data is retrieved by key, meaning you access values using a unique key associated with each value (e.g., my_dict['key']).\n",
        "Thus, lists use an ordered sequence with numeric indexing, while dictionaries use an unordered collection with unique keys for fast lookup.\n",
        "\n",
        "\n",
        "\n",
        "\n",
        "\n",
        "\n",
        "\n",
        "\n"
      ],
      "metadata": {
        "id": "roN-RJV0Oyba"
      }
    },
    {
      "cell_type": "code",
      "source": [
        "#Write a code to create a string with your name and print it\n",
        "name=\"soujit gayen\"\n",
        "print(name)\n"
      ],
      "metadata": {
        "colab": {
          "base_uri": "https://localhost:8080/"
        },
        "id": "l-_-K_0HniPf",
        "outputId": "aa32e65e-57d8-4d97-e026-321465494185"
      },
      "execution_count": null,
      "outputs": [
        {
          "output_type": "stream",
          "name": "stdout",
          "text": [
            "soujit gayen\n"
          ]
        }
      ]
    },
    {
      "cell_type": "code",
      "source": [
        "# Write a code to find the length of the string \"Hello World\"\n",
        "word=\"Hello World\"\n",
        "print(len(word))"
      ],
      "metadata": {
        "colab": {
          "base_uri": "https://localhost:8080/"
        },
        "id": "LTF_Tk1Wn3-s",
        "outputId": "cbdc4bb2-21a0-4cba-eb20-9127d1ff19b9"
      },
      "execution_count": null,
      "outputs": [
        {
          "output_type": "stream",
          "name": "stdout",
          "text": [
            "11\n"
          ]
        }
      ]
    },
    {
      "cell_type": "code",
      "source": [
        "# Write a code to slice the first 3 characters from the string \"Python Programming\n",
        "a=\"python programing\"\n",
        "print(a[0:3])\n"
      ],
      "metadata": {
        "colab": {
          "base_uri": "https://localhost:8080/"
        },
        "id": "Nes5_hQVoey5",
        "outputId": "8c9745b3-ded8-4fae-8eb6-06b89306d434"
      },
      "execution_count": null,
      "outputs": [
        {
          "output_type": "stream",
          "name": "stdout",
          "text": [
            "pyt\n"
          ]
        }
      ]
    },
    {
      "cell_type": "code",
      "source": [
        "#Write a code to convert the string \"hello\" to uppercase\n",
        "a=\"hello\"\n",
        "print(a.upper())"
      ],
      "metadata": {
        "colab": {
          "base_uri": "https://localhost:8080/"
        },
        "id": "MLQLf0l1ctnK",
        "outputId": "77ca565f-ea40-4284-aa5e-6648151ebcd8"
      },
      "execution_count": 2,
      "outputs": [
        {
          "output_type": "stream",
          "name": "stdout",
          "text": [
            "HELLO\n"
          ]
        }
      ]
    },
    {
      "cell_type": "code",
      "source": [
        "#Write a code to replace the word \"apple\" with \"orange\" in the string \"I like apple\"\n",
        "a=\"i like apple\"\n",
        "print(a.replace(\"apple\",\"orange\"))\n"
      ],
      "metadata": {
        "colab": {
          "base_uri": "https://localhost:8080/"
        },
        "id": "5zJCcoQrdg13",
        "outputId": "dd5eafb8-b7c7-446d-94a6-f90338fcdf71"
      },
      "execution_count": 3,
      "outputs": [
        {
          "output_type": "stream",
          "name": "stdout",
          "text": [
            "i like orange\n"
          ]
        }
      ]
    },
    {
      "cell_type": "code",
      "source": [
        "#Write a code to create a list with numbers 1 to 5 and print it\n",
        "list=[1,2,3,4,5]\n",
        "print(list)"
      ],
      "metadata": {
        "colab": {
          "base_uri": "https://localhost:8080/"
        },
        "id": "vabISsHqeD3K",
        "outputId": "316cc993-4602-42d5-ff78-a618d61d82ce"
      },
      "execution_count": 4,
      "outputs": [
        {
          "output_type": "stream",
          "name": "stdout",
          "text": [
            "[1, 2, 3, 4, 5]\n"
          ]
        }
      ]
    },
    {
      "cell_type": "code",
      "source": [
        "# Write a code to append the number 10 to the list [1, 2, 3, 4]\n",
        "list=[1,2,3,4]\n",
        "list.append(10)\n",
        "print(list)"
      ],
      "metadata": {
        "colab": {
          "base_uri": "https://localhost:8080/"
        },
        "id": "OoV3b4qbejP5",
        "outputId": "5d56dd33-78e4-4798-a81b-3ace738f98bc"
      },
      "execution_count": 5,
      "outputs": [
        {
          "output_type": "stream",
          "name": "stdout",
          "text": [
            "[1, 2, 3, 4, 10]\n"
          ]
        }
      ]
    },
    {
      "cell_type": "code",
      "source": [
        "# Write a code to remove the number 3 from the list [1, 2, 3, 4, 5]\n",
        "list=[1,2,3,4,5]\n",
        "list.remove(3)\n",
        "print(list)\n"
      ],
      "metadata": {
        "colab": {
          "base_uri": "https://localhost:8080/"
        },
        "id": "CV4GU1G0feaA",
        "outputId": "2700a6a0-8651-46f8-e31a-72abdc14e5ec"
      },
      "execution_count": 6,
      "outputs": [
        {
          "output_type": "stream",
          "name": "stdout",
          "text": [
            "[1, 2, 4, 5]\n"
          ]
        }
      ]
    },
    {
      "cell_type": "code",
      "source": [
        "# Write a code to access the second element in the list ['a', 'b', 'c', 'd']\n",
        "list=['a','b','c','d']\n",
        "print(list[1])"
      ],
      "metadata": {
        "colab": {
          "base_uri": "https://localhost:8080/"
        },
        "id": "5I5CSjeef_x5",
        "outputId": "3d929dec-358b-4e36-f928-b43c50a588dc"
      },
      "execution_count": 7,
      "outputs": [
        {
          "output_type": "stream",
          "name": "stdout",
          "text": [
            "b\n"
          ]
        }
      ]
    },
    {
      "cell_type": "code",
      "source": [
        "# Write a code to reverse the list [10, 20, 30, 40, 50]\n",
        "list=[10,20,30,40,50]\n",
        "list.reverse()\n",
        "print(list)\n"
      ],
      "metadata": {
        "colab": {
          "base_uri": "https://localhost:8080/"
        },
        "id": "zBwgyki9gUrq",
        "outputId": "6fe1e51d-54ce-4535-b210-f54cf8104c8d"
      },
      "execution_count": 8,
      "outputs": [
        {
          "output_type": "stream",
          "name": "stdout",
          "text": [
            "[50, 40, 30, 20, 10]\n"
          ]
        }
      ]
    },
    {
      "cell_type": "code",
      "source": [
        "# Write a code to create a tuple with the elements 10, 20, 30 and print it.\n",
        "tuple=(10,20,30)\n",
        "print(tuple)"
      ],
      "metadata": {
        "colab": {
          "base_uri": "https://localhost:8080/"
        },
        "id": "FIXzeoCRhWvp",
        "outputId": "df283dcf-6192-42d3-e898-fdb32097bbb3"
      },
      "execution_count": 9,
      "outputs": [
        {
          "output_type": "stream",
          "name": "stdout",
          "text": [
            "(10, 20, 30)\n"
          ]
        }
      ]
    },
    {
      "cell_type": "code",
      "source": [
        "# Write a code to access the first element of the tuple ('apple', 'banana', 'cherry').\n",
        "tuple=('apple','banana','cherry')\n",
        "print(tuple[0])"
      ],
      "metadata": {
        "colab": {
          "base_uri": "https://localhost:8080/"
        },
        "id": "CqfLWJ_Th3NN",
        "outputId": "997f2123-9e89-483b-dc97-127964c71035"
      },
      "execution_count": 10,
      "outputs": [
        {
          "output_type": "stream",
          "name": "stdout",
          "text": [
            "apple\n"
          ]
        }
      ]
    },
    {
      "cell_type": "code",
      "source": [
        "# Write a code to count how many times the number 2 appears in the tuple (1, 2, 3, 2, 4, 2).\n",
        "tuple=(1,2,3,2,4,2)\n",
        "print(tuple.count(2))"
      ],
      "metadata": {
        "colab": {
          "base_uri": "https://localhost:8080/"
        },
        "id": "uPAaDr_5iWUv",
        "outputId": "74f04ec8-e55e-4adc-baed-b8f7f94a9124"
      },
      "execution_count": 11,
      "outputs": [
        {
          "output_type": "stream",
          "name": "stdout",
          "text": [
            "3\n"
          ]
        }
      ]
    },
    {
      "cell_type": "code",
      "source": [
        "#Write a code to find the index of the element \"cat\" in the tuple ('dog', 'cat', 'rabbit').\n",
        "tuple=('dog','cat','rabbit')\n",
        "print(tuple.index('cat'))"
      ],
      "metadata": {
        "colab": {
          "base_uri": "https://localhost:8080/"
        },
        "id": "AC-RoQWeiwqP",
        "outputId": "163d53fe-dfe4-4be1-eb43-09048e734ab7"
      },
      "execution_count": 12,
      "outputs": [
        {
          "output_type": "stream",
          "name": "stdout",
          "text": [
            "1\n"
          ]
        }
      ]
    },
    {
      "cell_type": "code",
      "source": [
        "#Write a code to check if the element \"banana\" is in the tuple ('apple', 'orange', 'banana').\n",
        "tuple=('apple','orange','banana')\n",
        "print('banana','in','tuple')"
      ],
      "metadata": {
        "colab": {
          "base_uri": "https://localhost:8080/"
        },
        "id": "JYEqym5Sq8pT",
        "outputId": "d0a142f3-b481-4167-c2b1-74a96914799d"
      },
      "execution_count": 13,
      "outputs": [
        {
          "output_type": "stream",
          "name": "stdout",
          "text": [
            "banana in tuple\n"
          ]
        }
      ]
    },
    {
      "cell_type": "code",
      "source": [
        "# Write a code to create a set with the elements 1, 2, 3, 4, 5 and print it.\n",
        "set={1,2,3,4,5}\n",
        "print(set)"
      ],
      "metadata": {
        "colab": {
          "base_uri": "https://localhost:8080/"
        },
        "id": "rkVMgR620vON",
        "outputId": "f09c2048-b4fd-4214-c8a1-dbdb7d562cc9"
      },
      "execution_count": 14,
      "outputs": [
        {
          "output_type": "stream",
          "name": "stdout",
          "text": [
            "{1, 2, 3, 4, 5}\n"
          ]
        }
      ]
    },
    {
      "cell_type": "code",
      "source": [
        "# Write a code to add the element 6 to the set {1, 2, 3, 4}.\n",
        "set={1,2,3,4}\n",
        "set.add(6)\n",
        "print(set)"
      ],
      "metadata": {
        "colab": {
          "base_uri": "https://localhost:8080/"
        },
        "id": "L4_H8s0J1GQb",
        "outputId": "0919cb80-5917-4433-b497-e39d645381f1"
      },
      "execution_count": 15,
      "outputs": [
        {
          "output_type": "stream",
          "name": "stdout",
          "text": [
            "{1, 2, 3, 4, 6}\n"
          ]
        }
      ]
    },
    {
      "cell_type": "code",
      "source": [
        "#. Write a code to create a tuple with the elements 10, 20, 30 and print it.\n",
        "tuple="
      ],
      "metadata": {
        "id": "SnkYa9R_1bxy"
      },
      "execution_count": null,
      "outputs": []
    }
  ]
}